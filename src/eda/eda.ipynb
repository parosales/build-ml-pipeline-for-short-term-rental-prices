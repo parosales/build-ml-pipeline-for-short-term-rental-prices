{
 "cells": [
  {
   "cell_type": "markdown",
   "id": "d567ecd4",
   "metadata": {},
   "source": [
    "# _*Exploratory Data Analysis (EDA)*_"
   ]
  },
  {
   "cell_type": "markdown",
   "id": "c9ed9a7b",
   "metadata": {},
   "source": [
    "## _*1. Setup*_"
   ]
  },
  {
   "cell_type": "code",
   "execution_count": null,
   "id": "5bd36cd3",
   "metadata": {},
   "outputs": [],
   "source": [
    "import wandb\n",
    "import pandas as pd\n",
    "import pandas_profiling"
   ]
  },
  {
   "cell_type": "markdown",
   "id": "f424adea",
   "metadata": {},
   "source": [
    "## _*1. Load data*_"
   ]
  },
  {
   "cell_type": "code",
   "execution_count": null,
   "id": "2b157974",
   "metadata": {},
   "outputs": [],
   "source": [
    "run = wandb.init(project=\"nyc_airbnb\", group=\"eda\", save_code=True)\n",
    "local_path = wandb.use_artifact(\"sample.csv:latest\").file()\n",
    "df = pd.read_csv(local_path)"
   ]
  },
  {
   "cell_type": "markdown",
   "id": "47e0757f",
   "metadata": {},
   "source": [
    "## _*2. Profile*_"
   ]
  },
  {
   "cell_type": "code",
   "execution_count": null,
   "id": "69c4280e",
   "metadata": {},
   "outputs": [],
   "source": [
    "profile = pandas_profiling.ProfileReport(df)\n",
    "profile.to_widgets()"
   ]
  },
  {
   "cell_type": "markdown",
   "id": "d99603b3",
   "metadata": {},
   "source": [
    "## _*3. Data Cleanup*_"
   ]
  },
  {
   "cell_type": "code",
   "execution_count": null,
   "id": "9d045ff9",
   "metadata": {},
   "outputs": [],
   "source": [
    "# Drop outliers\n",
    "min_price = 10\n",
    "max_price = 350\n",
    "idx = df['price'].between(min_price, max_price)\n",
    "df = df[idx].copy()\n",
    "# Convert last_review to datetime\n",
    "df['last_review'] = pd.to_datetime(df['last_review'])"
   ]
  },
  {
   "cell_type": "code",
   "execution_count": null,
   "id": "36b0bf4f",
   "metadata": {},
   "outputs": [],
   "source": [
    "df.info()"
   ]
  },
  {
   "cell_type": "markdown",
   "id": "5c10109c",
   "metadata": {},
   "source": [
    "## _*4. Closing Tasks*_"
   ]
  },
  {
   "cell_type": "code",
   "execution_count": null,
   "id": "2f16c555",
   "metadata": {},
   "outputs": [],
   "source": [
    "run.finish()"
   ]
  }
 ],
 "metadata": {
  "kernelspec": {
   "display_name": "Python 3 (ipykernel)",
   "language": "python",
   "name": "python3"
  },
  "language_info": {
   "codemirror_mode": {
    "name": "ipython",
    "version": 3
   },
   "file_extension": ".py",
   "mimetype": "text/x-python",
   "name": "python",
   "nbconvert_exporter": "python",
   "pygments_lexer": "ipython3",
   "version": "3.8.10"
  }
 },
 "nbformat": 4,
 "nbformat_minor": 5
}

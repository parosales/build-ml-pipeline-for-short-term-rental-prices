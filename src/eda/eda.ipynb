{
 "cells": [
  {
   "cell_type": "code",
   "execution_count": 6,
   "id": "9b73c302",
   "metadata": {},
   "outputs": [
    {
     "ename": "ModuleNotFoundError",
     "evalue": "No module named 'wandb'",
     "output_type": "error",
     "traceback": [
      "\u001b[0;31m---------------------------------------------------------------------------\u001b[0m",
      "\u001b[0;31mModuleNotFoundError\u001b[0m                       Traceback (most recent call last)",
      "\u001b[0;32m/tmp/ipykernel_15999/1145178830.py\u001b[0m in \u001b[0;36m<module>\u001b[0;34m\u001b[0m\n\u001b[0;32m----> 1\u001b[0;31m \u001b[0;32mimport\u001b[0m \u001b[0mwandb\u001b[0m\u001b[0;34m\u001b[0m\u001b[0;34m\u001b[0m\u001b[0m\n\u001b[0m\u001b[1;32m      2\u001b[0m \u001b[0;31m#import pandas as pd\u001b[0m\u001b[0;34m\u001b[0m\u001b[0;34m\u001b[0m\u001b[0;34m\u001b[0m\u001b[0m\n\u001b[1;32m      3\u001b[0m \u001b[0;34m\u001b[0m\u001b[0m\n\u001b[1;32m      4\u001b[0m \u001b[0;31m#run = wandb.init(project=\"nyc_airbnb\", group=\"eda\", save_code=True)\u001b[0m\u001b[0;34m\u001b[0m\u001b[0;34m\u001b[0m\u001b[0;34m\u001b[0m\u001b[0m\n\u001b[1;32m      5\u001b[0m \u001b[0;31m#local_path = wandb.use_artifact(\"sample.csv:latest\").file()\u001b[0m\u001b[0;34m\u001b[0m\u001b[0;34m\u001b[0m\u001b[0;34m\u001b[0m\u001b[0m\n",
      "\u001b[0;31mModuleNotFoundError\u001b[0m: No module named 'wandb'"
     ]
    }
   ],
   "source": [
    "import wandb\n",
    "#import pandas as pd\n",
    "\n",
    "#run = wandb.init(project=\"nyc_airbnb\", group=\"eda\", save_code=True)\n",
    "#local_path = wandb.use_artifact(\"sample.csv:latest\").file()\n",
    "#df = pd.read_csv(local_path)"
   ]
  },
  {
   "cell_type": "code",
   "execution_count": 11,
   "id": "6db67c36",
   "metadata": {},
   "outputs": [],
   "source": [
    "import os"
   ]
  },
  {
   "cell_type": "code",
   "execution_count": 12,
   "id": "665c4dbf",
   "metadata": {},
   "outputs": [],
   "source": [
    "os.environ['JUPYTER_PATH'] = \" /home/pros/code_base/build-ml-pipeline-for-short-term-rental-prices/src/eda\""
   ]
  },
  {
   "cell_type": "code",
   "execution_count": 18,
   "id": "3f17d7e0",
   "metadata": {},
   "outputs": [],
   "source": [
    "os.environ['JUPYTER_CONFIG_PATH'] = \" /home/pros/code_base/build-ml-pipeline-for-short-term-rental-prices/src/eda\""
   ]
  },
  {
   "cell_type": "code",
   "execution_count": 13,
   "id": "3539eb95",
   "metadata": {},
   "outputs": [
    {
     "data": {
      "text/plain": [
       "' /home/pros/code_base/build-ml-pipeline-for-short-term-rental-prices/src/eda'"
      ]
     },
     "execution_count": 13,
     "metadata": {},
     "output_type": "execute_result"
    }
   ],
   "source": [
    "%env JUPYTER_PATH"
   ]
  },
  {
   "cell_type": "code",
   "execution_count": 19,
   "id": "0a05b2af",
   "metadata": {},
   "outputs": [
    {
     "data": {
      "text/plain": [
       "' /home/pros/code_base/build-ml-pipeline-for-short-term-rental-prices/src/eda'"
      ]
     },
     "execution_count": 19,
     "metadata": {},
     "output_type": "execute_result"
    }
   ],
   "source": [
    "%env JUPYTER_CONFIG_PATH"
   ]
  },
  {
   "cell_type": "code",
   "execution_count": 26,
   "id": "55bf692f",
   "metadata": {},
   "outputs": [
    {
     "ename": "ModuleNotFoundError",
     "evalue": "No module named 'numpy'",
     "output_type": "error",
     "traceback": [
      "\u001b[0;31m---------------------------------------------------------------------------\u001b[0m",
      "\u001b[0;31mModuleNotFoundError\u001b[0m                       Traceback (most recent call last)",
      "\u001b[0;32m/tmp/ipykernel_15999/2172125874.py\u001b[0m in \u001b[0;36m<module>\u001b[0;34m\u001b[0m\n\u001b[0;32m----> 1\u001b[0;31m \u001b[0;32mimport\u001b[0m \u001b[0mnumpy\u001b[0m\u001b[0;34m\u001b[0m\u001b[0;34m\u001b[0m\u001b[0m\n\u001b[0m",
      "\u001b[0;31mModuleNotFoundError\u001b[0m: No module named 'numpy'"
     ]
    }
   ],
   "source": [
    "import numpy"
   ]
  }
 ],
 "metadata": {
  "kernelspec": {
   "display_name": "Python 3 (ipykernel)",
   "language": "python",
   "name": "python3"
  },
  "language_info": {
   "codemirror_mode": {
    "name": "ipython",
    "version": 3
   },
   "file_extension": ".py",
   "mimetype": "text/x-python",
   "name": "python",
   "nbconvert_exporter": "python",
   "pygments_lexer": "ipython3",
   "version": "3.8.10"
  }
 },
 "nbformat": 4,
 "nbformat_minor": 5
}
